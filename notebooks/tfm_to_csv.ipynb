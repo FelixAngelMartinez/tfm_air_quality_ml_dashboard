{
  "nbformat": 4,
  "nbformat_minor": 0,
  "metadata": {
    "colab": {
      "name": "TFM-To-CSV.ipynb",
      "provenance": [],
      "collapsed_sections": []
    },
    "kernelspec": {
      "display_name": "Python 3",
      "name": "python3"
    },
    "language_info": {
      "name": "python"
    }
  },
  "cells": [
    {
      "cell_type": "markdown",
      "metadata": {
        "id": "iVl6yYYixsVd"
      },
      "source": [
        "# Intelligent system for monitoring indoor air quality and fight against COVID-19.<br>\n",
        "**Dataframe to .csv file**.<br>\n",
        "Notebook developed in Python with the aim of query data stored in a NoSQL database hosted in Azure called COSMOSDB in order to save it in a .csv file.<br>This allows to work with data science tools and also user friendly tools like Excel.<br>\n",
        "Author: Felix Angel Martinez Muela"
      ]
    },
    {
      "cell_type": "markdown",
      "metadata": {
        "id": "v6qAlnozw4kq"
      },
      "source": [
        "<img src=\"https://licensebuttons.net/l/by-nc-sa/3.0/88x31.png\"><br>\n",
        "**Attribution-NonCommercial-ShareAlike**<br>\n",
        "**CC BY-NC-SA**\n",
        "\n",
        "This license lets others remix, adapt, and build upon your work non-commercially, as long as they credit you and license their new creations under the identical terms.<br>\n",
        "[View License Deed](https://creativecommons.org/licenses/by-nc-sa/4.0) | [View Legal Code](https://creativecommons.org/licenses/by-nc-sa/4.0/legalcode)"
      ]
    },
    {
      "cell_type": "markdown",
      "metadata": {
        "id": "vaeR3RwLN_tK"
      },
      "source": [
        "Installation of necessary libraries."
      ]
    },
    {
      "cell_type": "code",
      "metadata": {
        "id": "zOMln__D_26s"
      },
      "source": [
        "%%capture\n",
        "!pip install pandas\n",
        "!pip install azure-cosmos"
      ],
      "execution_count": 1,
      "outputs": []
    },
    {
      "cell_type": "code",
      "metadata": {
        "id": "BfNPhZlfS4wQ"
      },
      "source": [
        "import os\n",
        "import time\n",
        "import datetime\n",
        "import json\n",
        "from azure.cosmos import CosmosClient\n",
        "import pandas as pd"
      ],
      "execution_count": 2,
      "outputs": []
    },
    {
      "cell_type": "markdown",
      "metadata": {
        "id": "j9Epoj9H7dGn"
      },
      "source": [
        "Starting measuring execution time."
      ]
    },
    {
      "cell_type": "code",
      "metadata": {
        "id": "z1jKgUKA7cy1"
      },
      "source": [
        "start_time = time.time()"
      ],
      "execution_count": 3,
      "outputs": []
    },
    {
      "cell_type": "markdown",
      "metadata": {
        "id": "rDMT1esCUvUV"
      },
      "source": [
        "Environment variables."
      ]
    },
    {
      "cell_type": "code",
      "metadata": {
        "id": "5HZ8xK0vVnDT"
      },
      "source": [
        "os.environ['ACCOUNT_URI'] = \"https://airq-cosmos.documents.azure.com:443/\"\n",
        "os.environ['ACCOUNT_KEY'] = \"s8bh08THd91Yt6nNbZDN99r6fHH212UCr8l4cuP7v7ySUj3Nps5DDUgIgmIix4QnP481e99UK6NbaQ99AfO9dg==\""
      ],
      "execution_count": 4,
      "outputs": []
    },
    {
      "cell_type": "markdown",
      "metadata": {
        "id": "kVlvAT24OHu1"
      },
      "source": [
        "CosmosDB client."
      ]
    },
    {
      "cell_type": "code",
      "metadata": {
        "id": "zlNOV362Db6a"
      },
      "source": [
        "url = os.environ['ACCOUNT_URI']\n",
        "key = os.environ['ACCOUNT_KEY']\n",
        "\n",
        "client = CosmosClient(url, credential=key)\n",
        "database_name = 'airq-db'\n",
        "database = client.get_database_client(database_name)\n",
        "container_name = 'telemetry'\n",
        "container = database.get_container_client(container_name)"
      ],
      "execution_count": 5,
      "outputs": []
    },
    {
      "cell_type": "markdown",
      "metadata": {
        "id": "f8Vk9Y4jN1xv"
      },
      "source": [
        "NoSQL Data base (CosmosDB) properties."
      ]
    },
    {
      "cell_type": "code",
      "metadata": {
        "id": "PoJuRnfGEoPX",
        "colab": {
          "base_uri": "https://localhost:8080/"
        },
        "outputId": "e09edcde-df56-42b5-ebc5-0fca1919416a"
      },
      "source": [
        "properties = database.read()\n",
        "print(json.dumps(properties))"
      ],
      "execution_count": 6,
      "outputs": [
        {
          "output_type": "stream",
          "text": [
            "{\"id\": \"airq-db\", \"_rid\": \"vohrAA==\", \"_self\": \"dbs/vohrAA==/\", \"_etag\": \"\\\"0000689f-0000-0d00-0000-60b5ee1b0000\\\"\", \"_colls\": \"colls/\", \"_users\": \"users/\", \"_ts\": 1622535707}\n"
          ],
          "name": "stdout"
        }
      ]
    },
    {
      "cell_type": "markdown",
      "metadata": {
        "id": "hWpPaUOAa3U0"
      },
      "source": [
        "Unix Timestamp a week before."
      ]
    },
    {
      "cell_type": "code",
      "metadata": {
        "id": "nOhvtHJUjyJC"
      },
      "source": [
        "last_x_days=7"
      ],
      "execution_count": 7,
      "outputs": []
    },
    {
      "cell_type": "code",
      "metadata": {
        "id": "EvTSC_AVapzu",
        "colab": {
          "base_uri": "https://localhost:8080/"
        },
        "outputId": "5c953a36-3773-4612-a6e1-7e23f6fe42eb"
      },
      "source": [
        "yesterday = datetime.date.today() - datetime.timedelta(last_x_days)\n",
        "unix_time= yesterday.strftime(\"%s\") #Second as a decimal number [00,61] (or Unix Timestamp)\n",
        "print(unix_time)"
      ],
      "execution_count": 8,
      "outputs": [
        {
          "output_type": "stream",
          "text": [
            "1623801600\n"
          ],
          "name": "stdout"
        }
      ]
    },
    {
      "cell_type": "markdown",
      "metadata": {
        "id": "4sZEdsG8e5-J"
      },
      "source": [
        "Query only  data of the following device."
      ]
    },
    {
      "cell_type": "code",
      "metadata": {
        "id": "LZ3hs3JAcdOI"
      },
      "source": [
        "deviceid='\"24:A1:60:58:09:94\"'"
      ],
      "execution_count": 9,
      "outputs": []
    },
    {
      "cell_type": "markdown",
      "metadata": {
        "id": "z0xf1Qi4ogaA"
      },
      "source": [
        "Database query."
      ]
    },
    {
      "cell_type": "code",
      "metadata": {
        "id": "a9jMslkMdmbu"
      },
      "source": [
        "query= 'SELECT * FROM c WHERE (c.deviceid = {deviceid}) AND (c.time>{unix_time}) ORDER BY c._ts ASC'.format(deviceid=deviceid, unix_time=unix_time)"
      ],
      "execution_count": 10,
      "outputs": []
    },
    {
      "cell_type": "markdown",
      "metadata": {
        "id": "kwBNP0qVN5HP"
      },
      "source": [
        "Query to the database and document concatenation to a list."
      ]
    },
    {
      "cell_type": "code",
      "metadata": {
        "id": "M9lASrEuEEba"
      },
      "source": [
        "%%capture\n",
        "dflist = []\n",
        "for item in container.query_items(\n",
        "        query=query,\n",
        "        enable_cross_partition_query=True):\n",
        "    print(json.dumps(item, indent=True))\n",
        "    dflist.append(dict(item))"
      ],
      "execution_count": 11,
      "outputs": []
    },
    {
      "cell_type": "markdown",
      "metadata": {
        "id": "wROKHrNOOUaD"
      },
      "source": [
        "Explanation of the data received by the CosmosDB database.<br>\n",
        "Data: <br>\n",
        "0.   **deviceid**: MAC direction of the device's wifi.\n",
        "1.   **time**: time at which the measured values were collected with UTC time. Value generated per IoT device.\n",
        "2.   **temperature**: temperature in Celsius degrees. Value generated by BME280 sensor.\n",
        "3.   **humidity**: relative humidity percentage %. Value generated by BME280 sensor.\n",
        "4.   **pressure**: atmospheric pressure in hPa. Value generated by BME280 sensor.\n",
        "5.   **altitude**: altitude at which the device is located as a function of its atmospheric pressure. Indicative value and that takes as reference the atmospheric pressure at sea level: 1013.25 hPa. Value generated by BME280 sensor.\n",
        "6.   **co2**: CO2 particles measured in ppm. Value generated by MHZ19 sensor.\n",
        "7.   **rawco2**: value captured by the sensor regardless of calibration. Value generated by MHZ19 sensor.\n",
        "8.   **pm25**: 2.5 micron airborne particles measured in ppm. Value generated by SDS011 sensor.\n",
        "9.   **pm10** 10 micron airborne particles measured in ppm. Value generated by SDS011 sensor.\n",
        "10.   **tvoc**: Volatile Organic Compound particles in suspension in the air, measured in ppb. Value generated by sensor.\n",
        "11.   **eco2**: CO2 particles measured in ppm. Value generated by SGP30 sensor.\n",
        "12.   **rawh2**: dihydrogen particles in the air. Value needed to measure eCO2 and TVOC. Value generated by SGP30 sensor.\n",
        "13.   **rawethanol**: ethanol particles in the air. Value required to measure eCO2 and TVOC. Value generated by SGP30 sensor.\n",
        "14.   **lux**: value indicating the brightness found in the environment, measured in lx, equivalent to 1 lm/m² Value generated by VEML7700 sensor.\n",
        "15.   **whitelux**: value indicating the brightness of the white color found in the environment, measured in lx, equivalent to 1 lm/m². Value generated by VEML7700 sensor.\n",
        "16.   **rawals**: raw value to obtain lux and whitelux. Value generated by VEML7700 sensor.\n",
        "17.   **id**: indicates the document identifier. Value generated by the database.\n",
        "18.   **_rid**: indicates the document identifier. Value generated by the database.\n",
        "19.   **_self**: indicates the document URI. Value generated by the database.\n",
        "20.   **_etag**: value necessary to manage the simultaneity of the documents. Value generated by the database.\n",
        "21.   **_attachments**: indicates attachments associated with the document. Value generated by the database.\n",
        "22.   **_ts**: indicates when the document was last modified. Value generated by the database."
      ]
    },
    {
      "cell_type": "markdown",
      "metadata": {
        "id": "Mb9C-qsvdJ1p"
      },
      "source": [
        "Creation of the dataframe from the query."
      ]
    },
    {
      "cell_type": "code",
      "metadata": {
        "id": "Ay9fZd4HFGGZ"
      },
      "source": [
        "df = pd.DataFrame(dflist)"
      ],
      "execution_count": 12,
      "outputs": []
    },
    {
      "cell_type": "markdown",
      "metadata": {
        "id": "Bg1SHw2LdSPh"
      },
      "source": [
        "We list the number of devices that have sent data."
      ]
    },
    {
      "cell_type": "code",
      "metadata": {
        "colab": {
          "base_uri": "https://localhost:8080/"
        },
        "id": "2xhwaGZ6dWnn",
        "outputId": "7e3194dc-4294-4616-ceb6-04cab74e23e1"
      },
      "source": [
        "devices = df.deviceid.unique()\n",
        "print(devices)"
      ],
      "execution_count": 13,
      "outputs": [
        {
          "output_type": "stream",
          "text": [
            "['24:A1:60:58:09:94']\n"
          ],
          "name": "stdout"
        }
      ]
    },
    {
      "cell_type": "markdown",
      "metadata": {
        "id": "vaVumg9kdYED"
      },
      "source": [
        "Select from the data frame only the rows that belong to the device you are interested in."
      ]
    },
    {
      "cell_type": "code",
      "metadata": {
        "id": "VfXrBiebdaCO"
      },
      "source": [
        "df = df.loc[df['deviceid'] == '24:A1:60:58:09:94']"
      ],
      "execution_count": 14,
      "outputs": []
    },
    {
      "cell_type": "markdown",
      "metadata": {
        "id": "xoluWroqZ38u"
      },
      "source": [
        "We eliminate from the DF the data that do not add value.<br>\n",
        "The values that for the development of the model do not contribute value are the following: deviceid, altitude, rawco2, rawh2, rawethanol, rawals, id, _rid, _self, _etag, attachements, _ts."
      ]
    },
    {
      "cell_type": "code",
      "metadata": {
        "id": "B7NlXTNFPFV6"
      },
      "source": [
        "df = df.drop(['deviceid','altitude','rawco2','rawh2','rawethanol','rawals','id','_rid','_self','_etag','_attachments','_ts'], 1)"
      ],
      "execution_count": 15,
      "outputs": []
    },
    {
      "cell_type": "code",
      "metadata": {
        "id": "yQ4td-9mj03p",
        "colab": {
          "base_uri": "https://localhost:8080/"
        },
        "outputId": "09cbef3a-70d8-4ff8-e631-fe809fd639aa"
      },
      "source": [
        "df = df.rename(columns={'time': 'Date'}) # Adjustment of column names\n",
        "df['Date']= pd.to_datetime(df['Date'], unit='s') # Conversion to date type\n",
        "df = df.sort_values('Date') # Sort by date\n",
        "df['Date'] = df['Date'].dt.floor('min') # Approaching seconds to minutes\n",
        "df.info()"
      ],
      "execution_count": 16,
      "outputs": [
        {
          "output_type": "stream",
          "text": [
            "<class 'pandas.core.frame.DataFrame'>\n",
            "Int64Index: 9192 entries, 0 to 9191\n",
            "Data columns (total 11 columns):\n",
            " #   Column       Non-Null Count  Dtype         \n",
            "---  ------       --------------  -----         \n",
            " 0   Date         9192 non-null   datetime64[ns]\n",
            " 1   temperature  9192 non-null   float64       \n",
            " 2   humidity     9192 non-null   float64       \n",
            " 3   pressure     9192 non-null   float64       \n",
            " 4   co2          9192 non-null   int64         \n",
            " 5   pm25         9192 non-null   float64       \n",
            " 6   pm10         9192 non-null   float64       \n",
            " 7   tvoc         9192 non-null   int64         \n",
            " 8   eco2         9192 non-null   int64         \n",
            " 9   lux          9192 non-null   float64       \n",
            " 10  whitelux     9192 non-null   float64       \n",
            "dtypes: datetime64[ns](1), float64(7), int64(3)\n",
            "memory usage: 861.8 KB\n"
          ],
          "name": "stdout"
        }
      ]
    },
    {
      "cell_type": "code",
      "metadata": {
        "colab": {
          "base_uri": "https://localhost:8080/",
          "height": 204
        },
        "id": "TTPB7XODht3k",
        "outputId": "928416d4-c9e0-4b2a-9831-356c43ae7af2"
      },
      "source": [
        "df.head()"
      ],
      "execution_count": 17,
      "outputs": [
        {
          "output_type": "execute_result",
          "data": {
            "text/html": [
              "<div>\n",
              "<style scoped>\n",
              "    .dataframe tbody tr th:only-of-type {\n",
              "        vertical-align: middle;\n",
              "    }\n",
              "\n",
              "    .dataframe tbody tr th {\n",
              "        vertical-align: top;\n",
              "    }\n",
              "\n",
              "    .dataframe thead th {\n",
              "        text-align: right;\n",
              "    }\n",
              "</style>\n",
              "<table border=\"1\" class=\"dataframe\">\n",
              "  <thead>\n",
              "    <tr style=\"text-align: right;\">\n",
              "      <th></th>\n",
              "      <th>Date</th>\n",
              "      <th>temperature</th>\n",
              "      <th>humidity</th>\n",
              "      <th>pressure</th>\n",
              "      <th>co2</th>\n",
              "      <th>pm25</th>\n",
              "      <th>pm10</th>\n",
              "      <th>tvoc</th>\n",
              "      <th>eco2</th>\n",
              "      <th>lux</th>\n",
              "      <th>whitelux</th>\n",
              "    </tr>\n",
              "  </thead>\n",
              "  <tbody>\n",
              "    <tr>\n",
              "      <th>0</th>\n",
              "      <td>2021-06-16 00:00:00</td>\n",
              "      <td>27.45</td>\n",
              "      <td>40.90</td>\n",
              "      <td>933.26</td>\n",
              "      <td>697</td>\n",
              "      <td>3.4</td>\n",
              "      <td>6.1</td>\n",
              "      <td>92</td>\n",
              "      <td>2114</td>\n",
              "      <td>0.0</td>\n",
              "      <td>0.0</td>\n",
              "    </tr>\n",
              "    <tr>\n",
              "      <th>1</th>\n",
              "      <td>2021-06-16 00:02:00</td>\n",
              "      <td>27.47</td>\n",
              "      <td>40.78</td>\n",
              "      <td>933.23</td>\n",
              "      <td>684</td>\n",
              "      <td>3.1</td>\n",
              "      <td>6.4</td>\n",
              "      <td>89</td>\n",
              "      <td>2087</td>\n",
              "      <td>0.0</td>\n",
              "      <td>0.0</td>\n",
              "    </tr>\n",
              "    <tr>\n",
              "      <th>2</th>\n",
              "      <td>2021-06-16 00:03:00</td>\n",
              "      <td>27.47</td>\n",
              "      <td>40.76</td>\n",
              "      <td>933.24</td>\n",
              "      <td>686</td>\n",
              "      <td>3.1</td>\n",
              "      <td>5.1</td>\n",
              "      <td>83</td>\n",
              "      <td>2061</td>\n",
              "      <td>0.0</td>\n",
              "      <td>0.0</td>\n",
              "    </tr>\n",
              "    <tr>\n",
              "      <th>3</th>\n",
              "      <td>2021-06-16 00:04:00</td>\n",
              "      <td>27.50</td>\n",
              "      <td>40.53</td>\n",
              "      <td>933.24</td>\n",
              "      <td>690</td>\n",
              "      <td>3.2</td>\n",
              "      <td>5.1</td>\n",
              "      <td>84</td>\n",
              "      <td>2062</td>\n",
              "      <td>0.0</td>\n",
              "      <td>0.0</td>\n",
              "    </tr>\n",
              "    <tr>\n",
              "      <th>4</th>\n",
              "      <td>2021-06-16 00:05:00</td>\n",
              "      <td>27.52</td>\n",
              "      <td>40.46</td>\n",
              "      <td>933.24</td>\n",
              "      <td>697</td>\n",
              "      <td>3.4</td>\n",
              "      <td>5.8</td>\n",
              "      <td>77</td>\n",
              "      <td>2096</td>\n",
              "      <td>0.0</td>\n",
              "      <td>0.0</td>\n",
              "    </tr>\n",
              "  </tbody>\n",
              "</table>\n",
              "</div>"
            ],
            "text/plain": [
              "                 Date  temperature  humidity  ...  eco2  lux  whitelux\n",
              "0 2021-06-16 00:00:00        27.45     40.90  ...  2114  0.0       0.0\n",
              "1 2021-06-16 00:02:00        27.47     40.78  ...  2087  0.0       0.0\n",
              "2 2021-06-16 00:03:00        27.47     40.76  ...  2061  0.0       0.0\n",
              "3 2021-06-16 00:04:00        27.50     40.53  ...  2062  0.0       0.0\n",
              "4 2021-06-16 00:05:00        27.52     40.46  ...  2096  0.0       0.0\n",
              "\n",
              "[5 rows x 11 columns]"
            ]
          },
          "metadata": {
            "tags": []
          },
          "execution_count": 17
        }
      ]
    },
    {
      "cell_type": "markdown",
      "metadata": {
        "id": "PsJkk7PEfB5Z"
      },
      "source": [
        "\n",
        "\n",
        "---\n",
        "\n",
        "**Dataframe to .csv file**."
      ]
    },
    {
      "cell_type": "markdown",
      "metadata": {
        "id": "62CiqDcEZXSN"
      },
      "source": [
        "Directory where the dataframe is going to be stored."
      ]
    },
    {
      "cell_type": "code",
      "metadata": {
        "id": "tr6xMKP0kzCH"
      },
      "source": [
        "%%capture\n",
        "!mkdir data/"
      ],
      "execution_count": 18,
      "outputs": []
    },
    {
      "cell_type": "markdown",
      "metadata": {
        "id": "gFrGX9l9e-XH"
      },
      "source": [
        "Process of importing dataframe to the .csv file."
      ]
    },
    {
      "cell_type": "markdown",
      "metadata": {
        "id": "5jONFY-AikfH"
      },
      "source": [
        "https://pandas.pydata.org/docs/reference/api/pandas.DataFrame.to_csv.html\n"
      ]
    },
    {
      "cell_type": "code",
      "metadata": {
        "id": "PVPeyikWZkWE"
      },
      "source": [
        "df.to_csv('data/airq_data.csv', float_format='%.3f', decimal=\",\", sep = ';', encoding='ISO-8859-1', index=False)"
      ],
      "execution_count": 19,
      "outputs": []
    },
    {
      "cell_type": "markdown",
      "metadata": {
        "id": "xA772nsj7h5m"
      },
      "source": [
        "Execution time finished."
      ]
    },
    {
      "cell_type": "code",
      "metadata": {
        "id": "CTgbZgXG7Z9u",
        "colab": {
          "base_uri": "https://localhost:8080/"
        },
        "outputId": "42909bd4-4bb0-46c1-f67c-64faa884bb6f"
      },
      "source": [
        "print(\"--- %s seconds ---\" % (time.time() - start_time))"
      ],
      "execution_count": 20,
      "outputs": [
        {
          "output_type": "stream",
          "text": [
            "--- 18.16928768157959 seconds ---\n"
          ],
          "name": "stdout"
        }
      ]
    }
  ]
}